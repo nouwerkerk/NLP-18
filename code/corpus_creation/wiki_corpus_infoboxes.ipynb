{
 "cells": [
  {
   "cell_type": "code",
   "execution_count": 1,
   "metadata": {},
   "outputs": [],
   "source": [
    "import pandas as pd\n",
    "from tqdm import tqdm\n",
    "from langchain.vectorstores.utils import filter_complex_metadata\n",
    "from concurrent.futures import ThreadPoolExecutor, as_completed\n",
    "import wptools\n",
    "from langchain.docstore.document import Document\n",
    "from typing import List\n",
    "import re"
   ]
  },
  {
   "cell_type": "code",
   "execution_count": 2,
   "metadata": {},
   "outputs": [],
   "source": [
    "def fetch_wikipedia_content(title: str):\n",
    "    \"\"\"\n",
    "    Fetches only the infoboxes from the given Wikipedia title using wptools,\n",
    "    parses them with mwparserfromhell, and returns a list of LangChain Documents.\n",
    "    \n",
    "    Each infobox in the page's wikitext is stored as a separate Document.\n",
    "    \"\"\"\n",
    "    import wptools\n",
    "    import mwparserfromhell\n",
    "    from langchain.docstore.document import Document\n",
    "\n",
    "    try:\n",
    "        # Fetch the page content\n",
    "        page = wptools.page(title, silent=True).get_parse()\n",
    "        wikitext = page.data.get('wikitext', '')\n",
    "\n",
    "        if not wikitext:\n",
    "            return []\n",
    "\n",
    "        # Parse the wikitext with mwparserfromhell\n",
    "        parsed_wikitext = mwparserfromhell.parse(wikitext)\n",
    "\n",
    "        infobox_docs = []\n",
    "\n",
    "        # Look for templates whose name starts with \"Infobox\"\n",
    "        for template in parsed_wikitext.filter_templates():\n",
    "            if template.name.lower().strip().startswith('infobox'):\n",
    "                # Collect key-value pairs\n",
    "                infobox_pairs = []\n",
    "                for param in template.params:\n",
    "                    # Clean up name and value\n",
    "                    key = param.name.strip()\n",
    "                    value = param.value.strip_code().strip()\n",
    "                    infobox_pairs.append(f\"{key}: {value}\")\n",
    "\n",
    "                # Create a nicely formatted string for the infobox content\n",
    "                infobox_text = \"Infobox Content\\n\" + \"\\n\".join(infobox_pairs)\n",
    "\n",
    "                # Create a Document for this infobox\n",
    "                doc = Document(\n",
    "                    page_content=infobox_text,\n",
    "                    metadata={\"title\": title}\n",
    "                )\n",
    "\n",
    "                infobox_docs.append(doc)\n",
    "\n",
    "        return infobox_docs\n",
    "\n",
    "    except Exception as e:\n",
    "        print(f\"Error fetching or parsing {title}: {e}\")\n",
    "        return []"
   ]
  },
  {
   "cell_type": "code",
   "execution_count": 3,
   "metadata": {},
   "outputs": [],
   "source": [
    "csv_file = \"../data/qid_to_titles.csv\"\n",
    "df = pd.read_csv(csv_file)  # The file has columns: QID, Wikipedia_Title\n",
    "\n",
    "all_docs = []\n",
    "successful_fetches = 0  # Counter for successful fetches"
   ]
  },
  {
   "cell_type": "code",
   "execution_count": 4,
   "metadata": {},
   "outputs": [
    {
     "name": "stderr",
     "output_type": "stream",
     "text": [
      "Fetching Wikipedia content: 100%|██████████| 13891/13891 [08:30<00:00, 27.21it/s]"
     ]
    },
    {
     "name": "stdout",
     "output_type": "stream",
     "text": [
      "Successfully fetched 13260 documents out of 13891.\n"
     ]
    },
    {
     "name": "stderr",
     "output_type": "stream",
     "text": [
      "\n"
     ]
    }
   ],
   "source": [
    "# Define the number of worker threads\n",
    "MAX_WORKERS = 40  # Adjust based on your requirements and Colab's capabilities\n",
    "\n",
    "with ThreadPoolExecutor(max_workers=MAX_WORKERS) as executor:\n",
    "    # Submit all tasks to the executor\n",
    "    future_to_title = {\n",
    "        executor.submit(fetch_wikipedia_content, row[\"Wikipedia_Title\"]): row[\"Wikipedia_Title\"] \n",
    "        for _, row in df.iterrows()\n",
    "    }\n",
    "\n",
    "    # Use tqdm to display the progress bar\n",
    "    for future in tqdm(as_completed(future_to_title), total=len(future_to_title), desc=\"Fetching Wikipedia content\"):\n",
    "        docs = future.result()\n",
    "        if docs:\n",
    "            all_docs.extend(docs)\n",
    "            successful_fetches += 1\n",
    "\n",
    "print(f\"Successfully fetched {successful_fetches} documents out of {len(df)}.\")"
   ]
  },
  {
   "cell_type": "code",
   "execution_count": 5,
   "metadata": {},
   "outputs": [
    {
     "name": "stdout",
     "output_type": "stream",
     "text": [
      "Successfully saved all_docs to ../data/all_docs_infoboxes_final.pkl\n"
     ]
    }
   ],
   "source": [
    "import pickle\n",
    "\n",
    "pickle_file_path = '../data/all_docs_infoboxes_final.pkl'\n",
    "\n",
    "# After fetching all_docs\n",
    "with open(pickle_file_path, \"wb\") as f:\n",
    "    pickle.dump(all_docs, f)\n",
    "    print(f\"Successfully saved all_docs to {pickle_file_path}\")"
   ]
  }
 ],
 "metadata": {
  "kernelspec": {
   "display_name": "NLP",
   "language": "python",
   "name": "python3"
  },
  "language_info": {
   "codemirror_mode": {
    "name": "ipython",
    "version": 3
   },
   "file_extension": ".py",
   "mimetype": "text/x-python",
   "name": "python",
   "nbconvert_exporter": "python",
   "pygments_lexer": "ipython3",
   "version": "3.9.18"
  }
 },
 "nbformat": 4,
 "nbformat_minor": 2
}

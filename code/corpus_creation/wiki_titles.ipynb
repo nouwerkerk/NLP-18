{
 "cells": [
  {
   "cell_type": "code",
   "execution_count": 7,
   "metadata": {},
   "outputs": [],
   "source": [
    "import json\n",
    "import requests\n",
    "import csv\n",
    "import os\n",
    "from tqdm import tqdm"
   ]
  },
  {
   "cell_type": "code",
   "execution_count": 8,
   "metadata": {},
   "outputs": [],
   "source": [
    "def get_wikipedia_title_from_wikidata(qid: str, language: str = \"en\") -> str:\n",
    "    \"\"\"\n",
    "    Given a Wikidata QID (e.g., 'Q328656'), retrieve the corresponding\n",
    "    Wikipedia page title in the specified language (default: English).\n",
    "    Returns None if the item does not have a matching sitelink or if there's an error.\n",
    "    \"\"\"\n",
    "    url = f\"https://www.wikidata.org/wiki/Special:EntityData/{qid}.json\"\n",
    "    response = requests.get(url)\n",
    "    if response.status_code != 200:\n",
    "        print(f\"Error fetching Wikidata for {qid}.\")\n",
    "        return None\n",
    "    \n",
    "    data = response.json()\n",
    "    try:\n",
    "        entity_info = data[\"entities\"][qid]\n",
    "        sitelinks = entity_info[\"sitelinks\"]\n",
    "        wiki_key = f\"{language}wiki\"\n",
    "        if wiki_key in sitelinks:\n",
    "            return sitelinks[wiki_key][\"title\"]\n",
    "        else:\n",
    "            print(f\"No '{language}wiki' sitelink for {qid}\")\n",
    "            return None\n",
    "    except KeyError:\n",
    "        print(f\"Wikidata entry not found or malformed for {qid}\")\n",
    "        return None\n",
    "    \n",
    "def gather_qids_from_files(file_paths):\n",
    "    \"\"\"\n",
    "    Given a list of JSON file paths, gather all QIDs (main 'wikidata_ID'\n",
    "    plus any in 'answer_ids'). Returns a set of QIDs.\n",
    "    \"\"\"\n",
    "    all_qids = set()\n",
    "    for path in file_paths:\n",
    "        if not os.path.exists(path):\n",
    "            print(f\"Warning: File {path} does not exist. Skipping.\")\n",
    "            continue\n",
    "        \n",
    "        with open(path, \"r\", encoding=\"utf-8\") as f:\n",
    "            data = json.load(f)\n",
    "            for item in data:\n",
    "                # Add main wikidata_ID\n",
    "                if \"wikidata_ID\" in item:\n",
    "                    all_qids.add(item[\"wikidata_ID\"])\n",
    "                \n",
    "                # Add any QIDs from 'answer_ids'\n",
    "                if \"answer_ids\" in item:\n",
    "                    for _, v in item[\"answer_ids\"].items():\n",
    "                        all_qids.add(v)\n",
    "    return all_qids"
   ]
  },
  {
   "cell_type": "code",
   "execution_count": 9,
   "metadata": {},
   "outputs": [
    {
     "name": "stdout",
     "output_type": "stream",
     "text": [
      "Found 13971 unique QIDs in total.\n"
     ]
    },
    {
     "name": "stderr",
     "output_type": "stream",
     "text": [
      "Retrieving Wikipedia titles:   0%|          | 25/13971 [00:13<1:44:09,  2.23it/s]"
     ]
    },
    {
     "name": "stdout",
     "output_type": "stream",
     "text": [
      "No 'enwiki' sitelink for Q42712773\n"
     ]
    },
    {
     "name": "stderr",
     "output_type": "stream",
     "text": [
      "Retrieving Wikipedia titles:   3%|▎         | 432/13971 [03:29<1:30:09,  2.50it/s]"
     ]
    },
    {
     "name": "stdout",
     "output_type": "stream",
     "text": [
      "No 'enwiki' sitelink for Q7005377\n"
     ]
    },
    {
     "name": "stderr",
     "output_type": "stream",
     "text": [
      "Retrieving Wikipedia titles:   5%|▍         | 669/13971 [05:32<1:55:42,  1.92it/s]"
     ]
    },
    {
     "name": "stdout",
     "output_type": "stream",
     "text": [
      "No 'enwiki' sitelink for Q23762108\n"
     ]
    },
    {
     "name": "stderr",
     "output_type": "stream",
     "text": [
      "Retrieving Wikipedia titles:   6%|▋         | 879/13971 [07:16<1:54:10,  1.91it/s]"
     ]
    },
    {
     "name": "stdout",
     "output_type": "stream",
     "text": [
      "No 'enwiki' sitelink for Q64029222\n"
     ]
    },
    {
     "name": "stderr",
     "output_type": "stream",
     "text": [
      "Retrieving Wikipedia titles:   8%|▊         | 1171/13971 [09:36<1:44:21,  2.04it/s]"
     ]
    },
    {
     "name": "stdout",
     "output_type": "stream",
     "text": [
      "No 'enwiki' sitelink for Q9379740\n"
     ]
    },
    {
     "name": "stderr",
     "output_type": "stream",
     "text": [
      "Retrieving Wikipedia titles:  10%|█         | 1426/13971 [11:40<1:37:50,  2.14it/s]"
     ]
    },
    {
     "name": "stdout",
     "output_type": "stream",
     "text": [
      "No 'enwiki' sitelink for Q57360504\n"
     ]
    },
    {
     "name": "stderr",
     "output_type": "stream",
     "text": [
      "Retrieving Wikipedia titles:  10%|█         | 1466/13971 [12:00<1:43:54,  2.01it/s]"
     ]
    },
    {
     "name": "stdout",
     "output_type": "stream",
     "text": [
      "No 'enwiki' sitelink for Q21580706\n"
     ]
    },
    {
     "name": "stderr",
     "output_type": "stream",
     "text": [
      "Retrieving Wikipedia titles:  12%|█▏        | 1714/13971 [14:07<1:51:03,  1.84it/s]"
     ]
    },
    {
     "name": "stdout",
     "output_type": "stream",
     "text": [
      "No 'enwiki' sitelink for Q84735825\n"
     ]
    },
    {
     "name": "stderr",
     "output_type": "stream",
     "text": [
      "Retrieving Wikipedia titles:  13%|█▎        | 1827/13971 [15:02<1:43:00,  1.96it/s]"
     ]
    },
    {
     "name": "stdout",
     "output_type": "stream",
     "text": [
      "No 'enwiki' sitelink for Q72762365\n"
     ]
    },
    {
     "name": "stderr",
     "output_type": "stream",
     "text": [
      "Retrieving Wikipedia titles:  13%|█▎        | 1852/13971 [15:15<1:52:11,  1.80it/s]"
     ]
    },
    {
     "name": "stdout",
     "output_type": "stream",
     "text": [
      "No 'enwiki' sitelink for Q43122612\n"
     ]
    },
    {
     "name": "stderr",
     "output_type": "stream",
     "text": [
      "Retrieving Wikipedia titles:  14%|█▎        | 1890/13971 [15:36<1:48:35,  1.85it/s]"
     ]
    },
    {
     "name": "stdout",
     "output_type": "stream",
     "text": [
      "No 'enwiki' sitelink for Q4146869\n"
     ]
    },
    {
     "name": "stderr",
     "output_type": "stream",
     "text": [
      "Retrieving Wikipedia titles:  15%|█▍        | 2064/13971 [17:05<1:49:24,  1.81it/s]"
     ]
    },
    {
     "name": "stdout",
     "output_type": "stream",
     "text": [
      "No 'enwiki' sitelink for Q42907466\n"
     ]
    },
    {
     "name": "stderr",
     "output_type": "stream",
     "text": [
      "Retrieving Wikipedia titles:  15%|█▌        | 2141/13971 [17:46<1:27:47,  2.25it/s]"
     ]
    },
    {
     "name": "stdout",
     "output_type": "stream",
     "text": [
      "No 'enwiki' sitelink for Q20647668\n"
     ]
    },
    {
     "name": "stderr",
     "output_type": "stream",
     "text": [
      "Retrieving Wikipedia titles:  16%|█▌        | 2179/13971 [18:06<1:30:01,  2.18it/s]"
     ]
    },
    {
     "name": "stdout",
     "output_type": "stream",
     "text": [
      "No 'enwiki' sitelink for Q85520551\n"
     ]
    },
    {
     "name": "stderr",
     "output_type": "stream",
     "text": [
      "Retrieving Wikipedia titles:  16%|█▌        | 2230/13971 [18:33<1:42:31,  1.91it/s]"
     ]
    },
    {
     "name": "stdout",
     "output_type": "stream",
     "text": [
      "No 'enwiki' sitelink for Q1546372\n"
     ]
    },
    {
     "name": "stderr",
     "output_type": "stream",
     "text": [
      "Retrieving Wikipedia titles:  16%|█▌        | 2232/13971 [18:34<1:37:14,  2.01it/s]"
     ]
    },
    {
     "name": "stdout",
     "output_type": "stream",
     "text": [
      "Wikidata entry not found or malformed for Q55623217\n"
     ]
    },
    {
     "name": "stderr",
     "output_type": "stream",
     "text": [
      "Retrieving Wikipedia titles:  17%|█▋        | 2329/13971 [19:19<1:36:19,  2.01it/s]"
     ]
    },
    {
     "name": "stdout",
     "output_type": "stream",
     "text": [
      "No 'enwiki' sitelink for Q130929\n"
     ]
    },
    {
     "name": "stderr",
     "output_type": "stream",
     "text": [
      "Retrieving Wikipedia titles:  17%|█▋        | 2416/13971 [20:01<1:25:54,  2.24it/s]"
     ]
    },
    {
     "name": "stdout",
     "output_type": "stream",
     "text": [
      "No 'enwiki' sitelink for Q76861\n"
     ]
    },
    {
     "name": "stderr",
     "output_type": "stream",
     "text": [
      "Retrieving Wikipedia titles:  19%|█▉        | 2639/13971 [21:56<1:19:02,  2.39it/s]"
     ]
    },
    {
     "name": "stdout",
     "output_type": "stream",
     "text": [
      "No 'enwiki' sitelink for Q75863568\n"
     ]
    },
    {
     "name": "stderr",
     "output_type": "stream",
     "text": [
      "Retrieving Wikipedia titles:  20%|█▉        | 2792/13971 [23:09<1:37:53,  1.90it/s]"
     ]
    },
    {
     "name": "stdout",
     "output_type": "stream",
     "text": [
      "No 'enwiki' sitelink for Q16235337\n"
     ]
    },
    {
     "name": "stderr",
     "output_type": "stream",
     "text": [
      "Retrieving Wikipedia titles:  20%|██        | 2836/13971 [23:31<1:34:45,  1.96it/s]"
     ]
    },
    {
     "name": "stdout",
     "output_type": "stream",
     "text": [
      "No 'enwiki' sitelink for Q3315346\n"
     ]
    },
    {
     "name": "stderr",
     "output_type": "stream",
     "text": [
      "Retrieving Wikipedia titles:  20%|██        | 2846/13971 [23:35<1:26:34,  2.14it/s]"
     ]
    },
    {
     "name": "stdout",
     "output_type": "stream",
     "text": [
      "No 'enwiki' sitelink for Q90880889\n"
     ]
    },
    {
     "name": "stderr",
     "output_type": "stream",
     "text": [
      "Retrieving Wikipedia titles:  22%|██▏       | 3023/13971 [25:00<1:32:12,  1.98it/s]"
     ]
    },
    {
     "name": "stdout",
     "output_type": "stream",
     "text": [
      "No 'enwiki' sitelink for Q30591832\n"
     ]
    },
    {
     "name": "stderr",
     "output_type": "stream",
     "text": [
      "Retrieving Wikipedia titles:  25%|██▍       | 3443/13971 [28:17<1:11:26,  2.46it/s]"
     ]
    },
    {
     "name": "stdout",
     "output_type": "stream",
     "text": [
      "No 'enwiki' sitelink for Q21580140\n"
     ]
    },
    {
     "name": "stderr",
     "output_type": "stream",
     "text": [
      "Retrieving Wikipedia titles:  25%|██▌       | 3493/13971 [28:40<1:12:32,  2.41it/s]"
     ]
    },
    {
     "name": "stdout",
     "output_type": "stream",
     "text": [
      "Wikidata entry not found or malformed for Q26132701\n"
     ]
    },
    {
     "name": "stderr",
     "output_type": "stream",
     "text": [
      "Retrieving Wikipedia titles:  26%|██▌       | 3594/13971 [29:30<1:43:13,  1.68it/s]"
     ]
    },
    {
     "name": "stdout",
     "output_type": "stream",
     "text": [
      "No 'enwiki' sitelink for Q731414\n"
     ]
    },
    {
     "name": "stderr",
     "output_type": "stream",
     "text": [
      "Retrieving Wikipedia titles:  31%|███▏      | 4396/13971 [36:23<1:25:48,  1.86it/s]"
     ]
    },
    {
     "name": "stdout",
     "output_type": "stream",
     "text": [
      "No 'enwiki' sitelink for Q39821310\n"
     ]
    },
    {
     "name": "stderr",
     "output_type": "stream",
     "text": [
      "Retrieving Wikipedia titles:  33%|███▎      | 4546/13971 [37:43<1:16:11,  2.06it/s]"
     ]
    },
    {
     "name": "stdout",
     "output_type": "stream",
     "text": [
      "No 'enwiki' sitelink for Q45715094\n"
     ]
    },
    {
     "name": "stderr",
     "output_type": "stream",
     "text": [
      "Retrieving Wikipedia titles:  33%|███▎      | 4629/13971 [38:25<1:00:51,  2.56it/s]"
     ]
    },
    {
     "name": "stdout",
     "output_type": "stream",
     "text": [
      "No 'enwiki' sitelink for Q2566297\n"
     ]
    },
    {
     "name": "stderr",
     "output_type": "stream",
     "text": [
      "Retrieving Wikipedia titles:  34%|███▍      | 4734/13971 [39:21<1:04:48,  2.38it/s]"
     ]
    },
    {
     "name": "stdout",
     "output_type": "stream",
     "text": [
      "No 'enwiki' sitelink for Q2242323\n"
     ]
    },
    {
     "name": "stderr",
     "output_type": "stream",
     "text": [
      "Retrieving Wikipedia titles:  36%|███▌      | 4976/13971 [41:22<1:25:48,  1.75it/s]"
     ]
    },
    {
     "name": "stdout",
     "output_type": "stream",
     "text": [
      "No 'enwiki' sitelink for Q467147\n"
     ]
    },
    {
     "name": "stderr",
     "output_type": "stream",
     "text": [
      "Retrieving Wikipedia titles:  39%|███▉      | 5463/13971 [45:25<55:37,  2.55it/s]  "
     ]
    },
    {
     "name": "stdout",
     "output_type": "stream",
     "text": [
      "Wikidata entry not found or malformed for Q28811961\n"
     ]
    },
    {
     "name": "stderr",
     "output_type": "stream",
     "text": [
      "Retrieving Wikipedia titles:  40%|███▉      | 5546/13971 [46:07<1:06:05,  2.12it/s]"
     ]
    },
    {
     "name": "stdout",
     "output_type": "stream",
     "text": [
      "No 'enwiki' sitelink for Q24049850\n"
     ]
    },
    {
     "name": "stderr",
     "output_type": "stream",
     "text": [
      "Retrieving Wikipedia titles:  42%|████▏     | 5813/13971 [48:18<49:50,  2.73it/s]  "
     ]
    },
    {
     "name": "stdout",
     "output_type": "stream",
     "text": [
      "No 'enwiki' sitelink for Q37831208\n"
     ]
    },
    {
     "name": "stderr",
     "output_type": "stream",
     "text": [
      "Retrieving Wikipedia titles:  42%|████▏     | 5876/13971 [48:48<1:19:17,  1.70it/s]"
     ]
    },
    {
     "name": "stdout",
     "output_type": "stream",
     "text": [
      "No 'enwiki' sitelink for Q172721\n"
     ]
    },
    {
     "name": "stderr",
     "output_type": "stream",
     "text": [
      "Retrieving Wikipedia titles:  44%|████▎     | 6098/13971 [50:48<1:08:30,  1.92it/s]"
     ]
    },
    {
     "name": "stdout",
     "output_type": "stream",
     "text": [
      "Wikidata entry not found or malformed for Q61003751\n"
     ]
    },
    {
     "name": "stderr",
     "output_type": "stream",
     "text": [
      "Retrieving Wikipedia titles:  47%|████▋     | 6557/13971 [55:04<1:02:19,  1.98it/s]"
     ]
    },
    {
     "name": "stdout",
     "output_type": "stream",
     "text": [
      "No 'enwiki' sitelink for Q42851750\n"
     ]
    },
    {
     "name": "stderr",
     "output_type": "stream",
     "text": [
      "Retrieving Wikipedia titles:  48%|████▊     | 6767/13971 [56:56<59:36,  2.01it/s]  "
     ]
    },
    {
     "name": "stdout",
     "output_type": "stream",
     "text": [
      "No 'enwiki' sitelink for Q97905930\n"
     ]
    },
    {
     "name": "stderr",
     "output_type": "stream",
     "text": [
      "Retrieving Wikipedia titles:  49%|████▉     | 6861/13971 [57:46<1:06:54,  1.77it/s]"
     ]
    },
    {
     "name": "stdout",
     "output_type": "stream",
     "text": [
      "No 'enwiki' sitelink for Q60974301\n"
     ]
    },
    {
     "name": "stderr",
     "output_type": "stream",
     "text": [
      "Retrieving Wikipedia titles:  51%|█████     | 7146/13971 [1:00:13<56:23,  2.02it/s]  "
     ]
    },
    {
     "name": "stdout",
     "output_type": "stream",
     "text": [
      "No 'enwiki' sitelink for Q15141324\n"
     ]
    },
    {
     "name": "stderr",
     "output_type": "stream",
     "text": [
      "Retrieving Wikipedia titles:  52%|█████▏    | 7223/13971 [1:00:54<56:47,  1.98it/s]  "
     ]
    },
    {
     "name": "stdout",
     "output_type": "stream",
     "text": [
      "No 'enwiki' sitelink for Q113628552\n"
     ]
    },
    {
     "name": "stderr",
     "output_type": "stream",
     "text": [
      "Retrieving Wikipedia titles:  53%|█████▎    | 7343/13971 [1:01:53<59:01,  1.87it/s]  "
     ]
    },
    {
     "name": "stdout",
     "output_type": "stream",
     "text": [
      "No 'enwiki' sitelink for Q20792297\n"
     ]
    },
    {
     "name": "stderr",
     "output_type": "stream",
     "text": [
      "Retrieving Wikipedia titles:  53%|█████▎    | 7391/13971 [1:02:18<1:02:02,  1.77it/s]"
     ]
    },
    {
     "name": "stdout",
     "output_type": "stream",
     "text": [
      "Wikidata entry not found or malformed for Q4827280\n"
     ]
    },
    {
     "name": "stderr",
     "output_type": "stream",
     "text": [
      "Retrieving Wikipedia titles:  54%|█████▎    | 7506/13971 [1:03:18<59:25,  1.81it/s]  "
     ]
    },
    {
     "name": "stdout",
     "output_type": "stream",
     "text": [
      "No 'enwiki' sitelink for Q27826669\n"
     ]
    },
    {
     "name": "stderr",
     "output_type": "stream",
     "text": [
      "Retrieving Wikipedia titles:  54%|█████▍    | 7559/13971 [1:03:46<42:25,  2.52it/s]  "
     ]
    },
    {
     "name": "stdout",
     "output_type": "stream",
     "text": [
      "Wikidata entry not found or malformed for Q60477696\n"
     ]
    },
    {
     "name": "stderr",
     "output_type": "stream",
     "text": [
      "Retrieving Wikipedia titles:  55%|█████▍    | 7639/13971 [1:04:28<57:00,  1.85it/s]  "
     ]
    },
    {
     "name": "stdout",
     "output_type": "stream",
     "text": [
      "No 'enwiki' sitelink for Q42418130\n"
     ]
    },
    {
     "name": "stderr",
     "output_type": "stream",
     "text": [
      "Retrieving Wikipedia titles:  59%|█████▊    | 8178/13971 [1:08:54<47:58,  2.01it/s]  "
     ]
    },
    {
     "name": "stdout",
     "output_type": "stream",
     "text": [
      "No 'enwiki' sitelink for Q113628485\n"
     ]
    },
    {
     "name": "stderr",
     "output_type": "stream",
     "text": [
      "Retrieving Wikipedia titles:  61%|██████    | 8460/13971 [1:11:05<43:07,  2.13it/s]  "
     ]
    },
    {
     "name": "stdout",
     "output_type": "stream",
     "text": [
      "No 'enwiki' sitelink for Q38161518\n"
     ]
    },
    {
     "name": "stderr",
     "output_type": "stream",
     "text": [
      "Retrieving Wikipedia titles:  64%|██████▎   | 8897/13971 [1:14:37<43:34,  1.94it/s]  "
     ]
    },
    {
     "name": "stdout",
     "output_type": "stream",
     "text": [
      "No 'enwiki' sitelink for Q54861598\n"
     ]
    },
    {
     "name": "stderr",
     "output_type": "stream",
     "text": [
      "Retrieving Wikipedia titles:  65%|██████▌   | 9102/13971 [1:16:14<29:10,  2.78it/s]  "
     ]
    },
    {
     "name": "stdout",
     "output_type": "stream",
     "text": [
      "No 'enwiki' sitelink for Q707492\n"
     ]
    },
    {
     "name": "stderr",
     "output_type": "stream",
     "text": [
      "Retrieving Wikipedia titles:  66%|██████▌   | 9166/13971 [1:16:45<34:11,  2.34it/s]"
     ]
    },
    {
     "name": "stdout",
     "output_type": "stream",
     "text": [
      "No 'enwiki' sitelink for Q7889282\n"
     ]
    },
    {
     "name": "stderr",
     "output_type": "stream",
     "text": [
      "Retrieving Wikipedia titles:  66%|██████▋   | 9278/13971 [1:17:47<38:58,  2.01it/s]  "
     ]
    },
    {
     "name": "stdout",
     "output_type": "stream",
     "text": [
      "No 'enwiki' sitelink for Q28224782\n"
     ]
    },
    {
     "name": "stderr",
     "output_type": "stream",
     "text": [
      "Retrieving Wikipedia titles:  68%|██████▊   | 9464/13971 [1:19:15<27:30,  2.73it/s]"
     ]
    },
    {
     "name": "stdout",
     "output_type": "stream",
     "text": [
      "No 'enwiki' sitelink for Q1785225\n"
     ]
    },
    {
     "name": "stderr",
     "output_type": "stream",
     "text": [
      "Retrieving Wikipedia titles:  69%|██████▉   | 9702/13971 [1:21:11<29:32,  2.41it/s]"
     ]
    },
    {
     "name": "stdout",
     "output_type": "stream",
     "text": [
      "Wikidata entry not found or malformed for Q5379321\n"
     ]
    },
    {
     "name": "stderr",
     "output_type": "stream",
     "text": [
      "Retrieving Wikipedia titles:  71%|███████   | 9853/13971 [1:22:21<40:39,  1.69it/s]"
     ]
    },
    {
     "name": "stdout",
     "output_type": "stream",
     "text": [
      "No 'enwiki' sitelink for Q14957003\n"
     ]
    },
    {
     "name": "stderr",
     "output_type": "stream",
     "text": [
      "Retrieving Wikipedia titles:  73%|███████▎  | 10257/13971 [1:25:34<26:26,  2.34it/s]"
     ]
    },
    {
     "name": "stdout",
     "output_type": "stream",
     "text": [
      "No 'enwiki' sitelink for Q10871933\n"
     ]
    },
    {
     "name": "stderr",
     "output_type": "stream",
     "text": [
      "Retrieving Wikipedia titles:  75%|███████▍  | 10445/13971 [1:27:03<30:40,  1.92it/s]"
     ]
    },
    {
     "name": "stdout",
     "output_type": "stream",
     "text": [
      "No 'enwiki' sitelink for Q113517072\n"
     ]
    },
    {
     "name": "stderr",
     "output_type": "stream",
     "text": [
      "Retrieving Wikipedia titles:  75%|███████▍  | 10465/13971 [1:27:12<30:11,  1.94it/s]"
     ]
    },
    {
     "name": "stdout",
     "output_type": "stream",
     "text": [
      "No 'enwiki' sitelink for Q7444352\n"
     ]
    },
    {
     "name": "stderr",
     "output_type": "stream",
     "text": [
      "Retrieving Wikipedia titles:  75%|███████▌  | 10503/13971 [1:27:29<26:28,  2.18it/s]"
     ]
    },
    {
     "name": "stdout",
     "output_type": "stream",
     "text": [
      "No 'enwiki' sitelink for Q55949824\n"
     ]
    },
    {
     "name": "stderr",
     "output_type": "stream",
     "text": [
      "Retrieving Wikipedia titles:  77%|███████▋  | 10810/13971 [1:29:59<27:27,  1.92it/s]"
     ]
    },
    {
     "name": "stdout",
     "output_type": "stream",
     "text": [
      "No 'enwiki' sitelink for Q52729635\n"
     ]
    },
    {
     "name": "stderr",
     "output_type": "stream",
     "text": [
      "Retrieving Wikipedia titles:  78%|███████▊  | 10852/13971 [1:30:19<21:22,  2.43it/s]"
     ]
    },
    {
     "name": "stdout",
     "output_type": "stream",
     "text": [
      "No 'enwiki' sitelink for Q326552\n"
     ]
    },
    {
     "name": "stderr",
     "output_type": "stream",
     "text": [
      "Retrieving Wikipedia titles:  78%|███████▊  | 10913/13971 [1:30:46<20:56,  2.43it/s]"
     ]
    },
    {
     "name": "stdout",
     "output_type": "stream",
     "text": [
      "No 'enwiki' sitelink for Q870764\n"
     ]
    },
    {
     "name": "stderr",
     "output_type": "stream",
     "text": [
      "Retrieving Wikipedia titles:  80%|████████  | 11224/13971 [1:33:21<23:13,  1.97it/s]"
     ]
    },
    {
     "name": "stdout",
     "output_type": "stream",
     "text": [
      "Wikidata entry not found or malformed for Q2493761\n"
     ]
    },
    {
     "name": "stderr",
     "output_type": "stream",
     "text": [
      "Retrieving Wikipedia titles:  80%|████████  | 11226/13971 [1:33:22<22:46,  2.01it/s]"
     ]
    },
    {
     "name": "stdout",
     "output_type": "stream",
     "text": [
      "No 'enwiki' sitelink for Q11895142\n"
     ]
    },
    {
     "name": "stderr",
     "output_type": "stream",
     "text": [
      "Retrieving Wikipedia titles:  82%|████████▏ | 11469/13971 [1:35:30<21:08,  1.97it/s]"
     ]
    },
    {
     "name": "stdout",
     "output_type": "stream",
     "text": [
      "No 'enwiki' sitelink for Q958419\n"
     ]
    },
    {
     "name": "stderr",
     "output_type": "stream",
     "text": [
      "Retrieving Wikipedia titles:  82%|████████▏ | 11500/13971 [1:35:46<23:28,  1.75it/s]"
     ]
    },
    {
     "name": "stdout",
     "output_type": "stream",
     "text": [
      "No 'enwiki' sitelink for Q12454125\n"
     ]
    },
    {
     "name": "stderr",
     "output_type": "stream",
     "text": [
      "Retrieving Wikipedia titles:  84%|████████▍ | 11798/13971 [1:38:22<20:13,  1.79it/s]"
     ]
    },
    {
     "name": "stdout",
     "output_type": "stream",
     "text": [
      "Wikidata entry not found or malformed for Q63932620\n"
     ]
    },
    {
     "name": "stderr",
     "output_type": "stream",
     "text": [
      "Retrieving Wikipedia titles:  86%|████████▌ | 12015/13971 [1:40:11<13:03,  2.50it/s]"
     ]
    },
    {
     "name": "stdout",
     "output_type": "stream",
     "text": [
      "No 'enwiki' sitelink for Q5457357\n"
     ]
    },
    {
     "name": "stderr",
     "output_type": "stream",
     "text": [
      "Retrieving Wikipedia titles:  86%|████████▋ | 12082/13971 [1:40:46<16:12,  1.94it/s]"
     ]
    },
    {
     "name": "stdout",
     "output_type": "stream",
     "text": [
      "No 'enwiki' sitelink for Q5116465\n"
     ]
    },
    {
     "name": "stderr",
     "output_type": "stream",
     "text": [
      "Retrieving Wikipedia titles:  87%|████████▋ | 12117/13971 [1:41:06<18:27,  1.67it/s]"
     ]
    },
    {
     "name": "stdout",
     "output_type": "stream",
     "text": [
      "No 'enwiki' sitelink for Q18044891\n"
     ]
    },
    {
     "name": "stderr",
     "output_type": "stream",
     "text": [
      "Retrieving Wikipedia titles:  88%|████████▊ | 12228/13971 [1:42:01<14:33,  2.00it/s]"
     ]
    },
    {
     "name": "stdout",
     "output_type": "stream",
     "text": [
      "Wikidata entry not found or malformed for Q206343\n"
     ]
    },
    {
     "name": "stderr",
     "output_type": "stream",
     "text": [
      "Retrieving Wikipedia titles:  88%|████████▊ | 12338/13971 [1:42:54<10:26,  2.61it/s]"
     ]
    },
    {
     "name": "stdout",
     "output_type": "stream",
     "text": [
      "No 'enwiki' sitelink for Q66517156\n"
     ]
    },
    {
     "name": "stderr",
     "output_type": "stream",
     "text": [
      "Retrieving Wikipedia titles:  89%|████████▉ | 12416/13971 [1:43:34<12:46,  2.03it/s]"
     ]
    },
    {
     "name": "stdout",
     "output_type": "stream",
     "text": [
      "No 'enwiki' sitelink for Q24234023\n"
     ]
    },
    {
     "name": "stderr",
     "output_type": "stream",
     "text": [
      "Retrieving Wikipedia titles:  89%|████████▉ | 12476/13971 [1:44:05<13:01,  1.91it/s]"
     ]
    },
    {
     "name": "stdout",
     "output_type": "stream",
     "text": [
      "No 'enwiki' sitelink for Q45837766\n"
     ]
    },
    {
     "name": "stderr",
     "output_type": "stream",
     "text": [
      "Retrieving Wikipedia titles:  89%|████████▉ | 12483/13971 [1:44:08<12:50,  1.93it/s]"
     ]
    },
    {
     "name": "stdout",
     "output_type": "stream",
     "text": [
      "No 'enwiki' sitelink for Q21993339\n"
     ]
    },
    {
     "name": "stderr",
     "output_type": "stream",
     "text": [
      "Retrieving Wikipedia titles:  91%|█████████ | 12645/13971 [1:45:34<10:51,  2.03it/s]"
     ]
    },
    {
     "name": "stdout",
     "output_type": "stream",
     "text": [
      "Wikidata entry not found or malformed for Q4574084\n"
     ]
    },
    {
     "name": "stderr",
     "output_type": "stream",
     "text": [
      "Retrieving Wikipedia titles:  96%|█████████▌| 13387/13971 [1:51:55<03:12,  3.03it/s]"
     ]
    },
    {
     "name": "stdout",
     "output_type": "stream",
     "text": [
      "No 'enwiki' sitelink for Q162449\n"
     ]
    },
    {
     "name": "stderr",
     "output_type": "stream",
     "text": [
      "Retrieving Wikipedia titles:  97%|█████████▋| 13611/13971 [1:53:47<03:00,  1.99it/s]"
     ]
    },
    {
     "name": "stdout",
     "output_type": "stream",
     "text": [
      "No 'enwiki' sitelink for Q1408517\n"
     ]
    },
    {
     "name": "stderr",
     "output_type": "stream",
     "text": [
      "Retrieving Wikipedia titles:  99%|█████████▉| 13822/13971 [1:55:34<01:14,  2.00it/s]"
     ]
    },
    {
     "name": "stdout",
     "output_type": "stream",
     "text": [
      "No 'enwiki' sitelink for Q1364307\n"
     ]
    },
    {
     "name": "stderr",
     "output_type": "stream",
     "text": [
      "Retrieving Wikipedia titles:  99%|█████████▉| 13853/13971 [1:55:49<01:06,  1.77it/s]"
     ]
    },
    {
     "name": "stdout",
     "output_type": "stream",
     "text": [
      "No 'enwiki' sitelink for Q16145297\n"
     ]
    },
    {
     "name": "stderr",
     "output_type": "stream",
     "text": [
      "Retrieving Wikipedia titles: 100%|██████████| 13971/13971 [1:56:45<00:00,  1.99it/s]"
     ]
    },
    {
     "name": "stdout",
     "output_type": "stream",
     "text": [
      "Successfully retrieved 13891 titles.\n",
      "CSV of QIDs and titles written to qid_to_titles.csv\n"
     ]
    },
    {
     "name": "stderr",
     "output_type": "stream",
     "text": [
      "\n"
     ]
    }
   ],
   "source": [
    "# Update these paths as needed\n",
    "json_file_paths = [\n",
    "    \"../data/train_TLQA.json\",  # or \"train_TLQA.json\"\n",
    "    \"../data/test_TLQA.json\",   # or \"test_TLQA.json\"\n",
    "    \"../data/val_TLQA.json\"     # or \"val_TLQA.json\"\n",
    "]\n",
    "\n",
    "# 1. Gather all QIDs\n",
    "qid_set = gather_qids_from_files(json_file_paths)\n",
    "print(f\"Found {len(qid_set)} unique QIDs in total.\")\n",
    "\n",
    "# 2. For each QID, retrieve the Wikipedia title (with a progress bar)\n",
    "qid_title_pairs = []\n",
    "for qid in tqdm(qid_set, desc=\"Retrieving Wikipedia titles\"):\n",
    "    title = get_wikipedia_title_from_wikidata(qid, language=\"en\")\n",
    "    if title:\n",
    "        qid_title_pairs.append((qid, title))\n",
    "\n",
    "print(f\"Successfully retrieved {len(qid_title_pairs)} titles.\")\n",
    "\n",
    "# 3. Write out to CSV\n",
    "output_csv_path = \"qid_to_titles.csv\"\n",
    "with open(output_csv_path, mode=\"w\", encoding=\"utf-8\", newline=\"\") as csv_file:\n",
    "    writer = csv.writer(csv_file)\n",
    "    writer.writerow([\"QID\", \"Wikipedia_Title\"])  # Header\n",
    "    for qid, title in qid_title_pairs:\n",
    "        writer.writerow([qid, title])\n",
    "\n",
    "print(f\"CSV of QIDs and titles written to {output_csv_path}\")"
   ]
  },
  {
   "cell_type": "code",
   "execution_count": null,
   "metadata": {},
   "outputs": [],
   "source": []
  }
 ],
 "metadata": {
  "kernelspec": {
   "display_name": "NLP",
   "language": "python",
   "name": "python3"
  },
  "language_info": {
   "codemirror_mode": {
    "name": "ipython",
    "version": 3
   },
   "file_extension": ".py",
   "mimetype": "text/x-python",
   "name": "python",
   "nbconvert_exporter": "python",
   "pygments_lexer": "ipython3",
   "version": "3.9.18"
  }
 },
 "nbformat": 4,
 "nbformat_minor": 2
}

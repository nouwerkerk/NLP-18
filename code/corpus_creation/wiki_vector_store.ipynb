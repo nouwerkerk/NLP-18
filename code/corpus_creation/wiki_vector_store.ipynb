{
 "cells": [
  {
   "cell_type": "code",
   "execution_count": 1,
   "metadata": {},
   "outputs": [],
   "source": [
    "from langchain.text_splitter import RecursiveCharacterTextSplitter\n",
    "from langchain.vectorstores import FAISS\n",
    "from langchain.embeddings import HuggingFaceEmbeddings\n",
    "import os\n",
    "import pickle"
   ]
  },
  {
   "cell_type": "code",
   "execution_count": 2,
   "metadata": {},
   "outputs": [
    {
     "name": "stdout",
     "output_type": "stream",
     "text": [
      "Loaded all_docs from ../data/all_docs_infoboxes_final.pkl\n"
     ]
    }
   ],
   "source": [
    "pickle_file = \"../data/all_docs_infoboxes_final.pkl\"\n",
    "\n",
    "if os.path.exists(pickle_file):\n",
    "    with open(pickle_file, \"rb\") as f:\n",
    "        all_docs = pickle.load(f)\n",
    "        print(f\"Loaded all_docs from {pickle_file}\")\n",
    "else:\n",
    "    print(f\"Could not find {pickle_file}\")"
   ]
  },
  {
   "cell_type": "code",
   "execution_count": 3,
   "metadata": {},
   "outputs": [
    {
     "name": "stdout",
     "output_type": "stream",
     "text": [
      "\n",
      "Number of total chunks: 35057\n"
     ]
    }
   ],
   "source": [
    "# 3. Now we have all the documents in all_docs\n",
    "# 4. Apply the RecursiveCharacterTextSplitter\n",
    "text_splitter = RecursiveCharacterTextSplitter(chunk_size=512, chunk_overlap=56)\n",
    "chunked_docs = text_splitter.split_documents(all_docs)\n",
    "\n",
    "# Check how many chunks we got\n",
    "print(f\"\\nNumber of total chunks: {len(chunked_docs)}\")"
   ]
  },
  {
   "cell_type": "code",
   "execution_count": 4,
   "metadata": {},
   "outputs": [
    {
     "name": "stderr",
     "output_type": "stream",
     "text": [
      "/var/folders/yv/gpc5sh7j5k3cls_fv_dpzntc0000gn/T/ipykernel_83012/2597506556.py:5: LangChainDeprecationWarning: The class `HuggingFaceEmbeddings` was deprecated in LangChain 0.2.2 and will be removed in 1.0. An updated version of the class exists in the :class:`~langchain-huggingface package and should be used instead. To use it run `pip install -U :class:`~langchain-huggingface` and import as `from :class:`~langchain_huggingface import HuggingFaceEmbeddings``.\n",
      "  embeddings = HuggingFaceEmbeddings(\n",
      "Embedding and Building FAISS DB: 100%|██████████| 3506/3506 [10:52<00:00,  5.37it/s]\n"
     ]
    }
   ],
   "source": [
    "from langchain.embeddings import HuggingFaceEmbeddings\n",
    "from langchain.vectorstores import FAISS\n",
    "from tqdm import tqdm\n",
    "\n",
    "embeddings = HuggingFaceEmbeddings(\n",
    "    model_name=\"sentence-transformers/msmarco-distilbert-base-tas-b\",\n",
    "    #model_kwargs={\"device\": \"cpu\"}\n",
    ")\n",
    "\n",
    "# Define batch size\n",
    "batch_size = 10  # Adjust based on memory constraints\n",
    "\n",
    "# Calculate total number of batches\n",
    "total_batches = (len(chunked_docs) + batch_size - 1) // batch_size\n",
    "\n",
    "# Initialize FAISS DB as None\n",
    "faiss_db = None\n",
    "\n",
    "# Use tqdm for the embedding progress\n",
    "with tqdm(total=total_batches, desc=\"Embedding and Building FAISS DB\") as pbar:\n",
    "    for i in range(0, len(chunked_docs), batch_size):\n",
    "        batch = chunked_docs[i : i + batch_size]\n",
    "        \n",
    "        # Create FAISS index for the current batch\n",
    "        tmp_db = FAISS.from_documents(batch, embeddings)\n",
    "        \n",
    "        if faiss_db is None:\n",
    "            faiss_db = tmp_db\n",
    "        else:\n",
    "            faiss_db.merge_from(tmp_db)\n",
    "        \n",
    "        # Update the progress bar\n",
    "        pbar.update(1)"
   ]
  },
  {
   "cell_type": "code",
   "execution_count": 5,
   "metadata": {},
   "outputs": [],
   "source": [
    "# Save the FAISS vector store\n",
    "faiss_db.save_local(\"../data/faiss_db_infoboxes_final\")"
   ]
  }
 ],
 "metadata": {
  "kernelspec": {
   "display_name": "NLP",
   "language": "python",
   "name": "python3"
  },
  "language_info": {
   "codemirror_mode": {
    "name": "ipython",
    "version": 3
   },
   "file_extension": ".py",
   "mimetype": "text/x-python",
   "name": "python",
   "nbconvert_exporter": "python",
   "pygments_lexer": "ipython3",
   "version": "3.9.18"
  }
 },
 "nbformat": 4,
 "nbformat_minor": 2
}

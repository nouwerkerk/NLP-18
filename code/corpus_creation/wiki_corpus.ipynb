{
 "cells": [
  {
   "cell_type": "code",
   "execution_count": 1,
   "metadata": {},
   "outputs": [],
   "source": [
    "import pandas as pd\n",
    "from langchain.document_loaders import WikipediaLoader\n",
    "from langchain.text_splitter import RecursiveCharacterTextSplitter\n",
    "from langchain.vectorstores import FAISS\n",
    "from tqdm import tqdm  # Import tqdm for the progress bar\n",
    "from langchain.embeddings import HuggingFaceEmbeddings\n",
    "from langchain.vectorstores.utils import filter_complex_metadata\n",
    "from concurrent.futures import ThreadPoolExecutor, as_completed"
   ]
  },
  {
   "cell_type": "code",
   "execution_count": 2,
   "metadata": {},
   "outputs": [],
   "source": [
    "def fetch_docs(title):\n",
    "    try:\n",
    "        # Initialize the loader for the given Wikipedia title\n",
    "        loader = WikipediaLoader(query=title, load_max_docs=1, doc_content_chars_max=999999999)\n",
    "\n",
    "        # Load returns a list of Documents\n",
    "        docs = loader.load()\n",
    "        docs = filter_complex_metadata(docs)\n",
    "\n",
    "        if docs:\n",
    "            return docs\n",
    "        else:\n",
    "            print(f\"Warning: No documents found for title '{title}'.\")\n",
    "            return []\n",
    "\n",
    "    except Exception as e:\n",
    "        print(f\"Error fetching '{title}': {e}\")\n",
    "        return []"
   ]
  },
  {
   "cell_type": "code",
   "execution_count": 3,
   "metadata": {},
   "outputs": [],
   "source": [
    "csv_file = \"../data/qid_to_titles.csv\"\n",
    "df = pd.read_csv(csv_file)  # The file has columns: QID, Wikipedia_Title\n",
    "\n",
    "all_docs = []\n",
    "successful_fetches = 0  # Counter for successful fetches"
   ]
  },
  {
   "cell_type": "code",
   "execution_count": 4,
   "metadata": {},
   "outputs": [
    {
     "name": "stderr",
     "output_type": "stream",
     "text": [
      "Fetching Wikipedia pages:   4%|▍         | 584/13891 [00:50<19:15, 11.52it/s]"
     ]
    },
    {
     "name": "stdout",
     "output_type": "stream",
     "text": [
      "Error fetching 'Michaela Pejzlová': HTTPSConnectionPool(host='en.wikipedia.org', port=443): Max retries exceeded with url: /w/api.php?prop=extracts&explaintext=&exintro=&titles=Michaela+Pejzlov%C3%A1&format=json&action=query (Caused by NameResolutionError(\"<urllib3.connection.HTTPSConnection object at 0x1396b1bb0>: Failed to resolve 'en.wikipedia.org' ([Errno 8] nodename nor servname provided, or not known)\"))\n"
     ]
    },
    {
     "name": "stderr",
     "output_type": "stream",
     "text": [
      "Fetching Wikipedia pages:   6%|▌         | 803/13891 [01:19<17:34, 12.41it/s]  /opt/miniconda3/envs/NLP/lib/python3.9/site-packages/wikipedia/wikipedia.py:389: GuessedAtParserWarning: No parser was explicitly specified, so I'm using the best available HTML parser for this system (\"html.parser\"). This usually isn't a problem, but if you run this code on another system, or in a different virtual environment, it may use a different parser and behave differently.\n",
      "\n",
      "The code that caused this warning is on line 389 of the file /opt/miniconda3/envs/NLP/lib/python3.9/site-packages/wikipedia/wikipedia.py. To get rid of this warning, pass the additional argument 'features=\"html.parser\"' to the BeautifulSoup constructor.\n",
      "\n",
      "  lis = BeautifulSoup(html).find_all('li')\n",
      "Fetching Wikipedia pages:   6%|▌         | 805/13891 [01:20<18:58, 11.49it/s]"
     ]
    },
    {
     "name": "stdout",
     "output_type": "stream",
     "text": [
      "Warning: No documents found for title 'Marcelo Miranda (politician)'.\n"
     ]
    },
    {
     "name": "stderr",
     "output_type": "stream",
     "text": [
      "Fetching Wikipedia pages:   7%|▋         | 914/13891 [01:27<11:55, 18.15it/s]"
     ]
    },
    {
     "name": "stdout",
     "output_type": "stream",
     "text": [
      "Error fetching 'Matúš Vallo': HTTPSConnectionPool(host='en.wikipedia.org', port=443): Max retries exceeded with url: /w/api.php?prop=extracts&explaintext=&exintro=&titles=Mat%C3%BA%C5%A1+Vallo&format=json&action=query (Caused by NameResolutionError(\"<urllib3.connection.HTTPSConnection object at 0x13972bdf0>: Failed to resolve 'en.wikipedia.org' ([Errno 8] nodename nor servname provided, or not known)\"))\n"
     ]
    },
    {
     "name": "stderr",
     "output_type": "stream",
     "text": [
      "Fetching Wikipedia pages:   9%|▊         | 1205/13891 [01:49<18:07, 11.67it/s]"
     ]
    },
    {
     "name": "stdout",
     "output_type": "stream",
     "text": [
      "Warning: No documents found for title 'Michael Hansen (footballer)'.\n"
     ]
    },
    {
     "name": "stderr",
     "output_type": "stream",
     "text": [
      "Fetching Wikipedia pages:  10%|█         | 1429/13891 [02:08<17:50, 11.64it/s]"
     ]
    },
    {
     "name": "stdout",
     "output_type": "stream",
     "text": [
      "Warning: No documents found for title 'Peter J. Wagner'.\n"
     ]
    },
    {
     "name": "stderr",
     "output_type": "stream",
     "text": [
      "Fetching Wikipedia pages:  13%|█▎        | 1814/13891 [02:40<16:33, 12.16it/s]"
     ]
    },
    {
     "name": "stdout",
     "output_type": "stream",
     "text": [
      "Warning: No documents found for title 'National Action (Italy)'.\n"
     ]
    },
    {
     "name": "stderr",
     "output_type": "stream",
     "text": [
      "Fetching Wikipedia pages:  19%|█▊        | 2597/13891 [03:40<09:54, 19.00it/s]"
     ]
    },
    {
     "name": "stdout",
     "output_type": "stream",
     "text": [
      "Warning: No documents found for title 'The Frisky'.\n"
     ]
    },
    {
     "name": "stderr",
     "output_type": "stream",
     "text": [
      "Fetching Wikipedia pages:  21%|██        | 2891/13891 [04:01<13:02, 14.05it/s]"
     ]
    },
    {
     "name": "stdout",
     "output_type": "stream",
     "text": [
      "Warning: No documents found for title 'Raffaele Baldassarre (politician)'.\n"
     ]
    },
    {
     "name": "stderr",
     "output_type": "stream",
     "text": [
      "Fetching Wikipedia pages:  21%|██        | 2908/13891 [04:03<13:00, 14.08it/s]"
     ]
    },
    {
     "name": "stdout",
     "output_type": "stream",
     "text": [
      "Warning: No documents found for title 'Minister for Health and Social Services'.\n"
     ]
    },
    {
     "name": "stderr",
     "output_type": "stream",
     "text": [
      "Fetching Wikipedia pages:  28%|██▊       | 3947/13891 [05:20<10:31, 15.74it/s]"
     ]
    },
    {
     "name": "stdout",
     "output_type": "stream",
     "text": [
      "Warning: No documents found for title 'Ahn Sang-soo (Incheon mayor)'.\n"
     ]
    },
    {
     "name": "stderr",
     "output_type": "stream",
     "text": [
      "Fetching Wikipedia pages:  39%|███▉      | 5403/13891 [07:03<08:39, 16.33it/s]"
     ]
    },
    {
     "name": "stdout",
     "output_type": "stream",
     "text": [
      "Warning: No documents found for title 'Heimir Guðjónsson (footballer, born 1969)'.\n"
     ]
    },
    {
     "name": "stderr",
     "output_type": "stream",
     "text": [
      "Fetching Wikipedia pages:  43%|████▎     | 6024/13891 [07:47<08:23, 15.63it/s]"
     ]
    },
    {
     "name": "stdout",
     "output_type": "stream",
     "text": [
      "Warning: No documents found for title 'Klaus Schmidt (footballer)'.\n"
     ]
    },
    {
     "name": "stderr",
     "output_type": "stream",
     "text": [
      "Fetching Wikipedia pages:  50%|█████     | 7003/13891 [08:53<08:18, 13.83it/s]"
     ]
    },
    {
     "name": "stdout",
     "output_type": "stream",
     "text": [
      "Warning: No documents found for title 'John Darley (politician)'.\n"
     ]
    },
    {
     "name": "stderr",
     "output_type": "stream",
     "text": [
      "Fetching Wikipedia pages:  51%|█████     | 7087/13891 [08:59<08:05, 14.02it/s]"
     ]
    },
    {
     "name": "stdout",
     "output_type": "stream",
     "text": [
      "Warning: No documents found for title 'Ross University'.\n"
     ]
    },
    {
     "name": "stderr",
     "output_type": "stream",
     "text": [
      "Fetching Wikipedia pages:  67%|██████▋   | 9363/13891 [11:38<05:50, 12.93it/s]"
     ]
    },
    {
     "name": "stdout",
     "output_type": "stream",
     "text": [
      "Warning: No documents found for title 'Rosemary Butler (politician)'.\n"
     ]
    },
    {
     "name": "stderr",
     "output_type": "stream",
     "text": [
      "Fetching Wikipedia pages:  71%|███████   | 9839/13891 [12:11<04:31, 14.90it/s]"
     ]
    },
    {
     "name": "stdout",
     "output_type": "stream",
     "text": [
      "Warning: No documents found for title 'Supreme director'.\n"
     ]
    },
    {
     "name": "stderr",
     "output_type": "stream",
     "text": [
      "Fetching Wikipedia pages:  73%|███████▎  | 10096/13891 [12:30<04:55, 12.86it/s]"
     ]
    },
    {
     "name": "stdout",
     "output_type": "stream",
     "text": [
      "Warning: No documents found for title 'Sergei Yakovlev (cyclist)'.\n"
     ]
    },
    {
     "name": "stderr",
     "output_type": "stream",
     "text": [
      "Fetching Wikipedia pages:  75%|███████▌  | 10424/13891 [12:53<04:05, 14.12it/s]"
     ]
    },
    {
     "name": "stdout",
     "output_type": "stream",
     "text": [
      "Warning: No documents found for title 'Stuart Campbell (footballer)'.\n"
     ]
    },
    {
     "name": "stderr",
     "output_type": "stream",
     "text": [
      "Fetching Wikipedia pages:  78%|███████▊  | 10846/13891 [13:22<02:44, 18.48it/s]"
     ]
    },
    {
     "name": "stdout",
     "output_type": "stream",
     "text": [
      "Warning: No documents found for title 'Citizens' Party (Finland)'.\n"
     ]
    },
    {
     "name": "stderr",
     "output_type": "stream",
     "text": [
      "Fetching Wikipedia pages:  78%|███████▊  | 10886/13891 [13:25<03:50, 13.04it/s]"
     ]
    },
    {
     "name": "stdout",
     "output_type": "stream",
     "text": [
      "Warning: No documents found for title 'Zoran Milinković (footballer)'.\n"
     ]
    },
    {
     "name": "stderr",
     "output_type": "stream",
     "text": [
      "Fetching Wikipedia pages:  80%|███████▉  | 11073/13891 [13:38<03:49, 12.27it/s]"
     ]
    },
    {
     "name": "stdout",
     "output_type": "stream",
     "text": [
      "Error fetching 'Free University of Berlin': HTTPConnectionPool(host='en.wikipedia.org', port=80): Max retries exceeded with url: /w/api.php?prop=extracts%7Crevisions&explaintext=&rvprop=ids&titles=Free+University+of+Berlin&format=json&action=query (Caused by NameResolutionError(\"<urllib3.connection.HTTPConnection object at 0x13ae1aa60>: Failed to resolve 'en.wikipedia.org' ([Errno 8] nodename nor servname provided, or not known)\"))\n"
     ]
    },
    {
     "name": "stderr",
     "output_type": "stream",
     "text": [
      "Fetching Wikipedia pages:  84%|████████▎ | 11607/13891 [14:16<02:20, 16.29it/s]"
     ]
    },
    {
     "name": "stdout",
     "output_type": "stream",
     "text": [
      "Warning: No documents found for title 'Jon M. Davis'.\n"
     ]
    },
    {
     "name": "stderr",
     "output_type": "stream",
     "text": [
      "Fetching Wikipedia pages:  84%|████████▎ | 11630/13891 [14:17<02:07, 17.69it/s]"
     ]
    },
    {
     "name": "stdout",
     "output_type": "stream",
     "text": [
      "Warning: No documents found for title 'Movement for the Left'.\n"
     ]
    },
    {
     "name": "stderr",
     "output_type": "stream",
     "text": [
      "Fetching Wikipedia pages:  85%|████████▌ | 11864/13891 [14:34<02:05, 16.12it/s]"
     ]
    },
    {
     "name": "stdout",
     "output_type": "stream",
     "text": [
      "Warning: No documents found for title 'Emeritus Senior Minister'.\n"
     ]
    },
    {
     "name": "stderr",
     "output_type": "stream",
     "text": [
      "Fetching Wikipedia pages:  86%|████████▌ | 11904/13891 [14:37<03:05, 10.74it/s]"
     ]
    },
    {
     "name": "stdout",
     "output_type": "stream",
     "text": [
      "Warning: No documents found for title 'The Nib'.\n"
     ]
    },
    {
     "name": "stderr",
     "output_type": "stream",
     "text": [
      "Fetching Wikipedia pages:  89%|████████▉ | 12394/13891 [15:11<01:19, 18.87it/s]"
     ]
    },
    {
     "name": "stdout",
     "output_type": "stream",
     "text": [
      "Warning: No documents found for title 'Cambridge High School'.\n"
     ]
    },
    {
     "name": "stderr",
     "output_type": "stream",
     "text": [
      "Fetching Wikipedia pages:  92%|█████████▏| 12774/13891 [15:36<01:11, 15.53it/s]"
     ]
    },
    {
     "name": "stdout",
     "output_type": "stream",
     "text": [
      "Warning: No documents found for title 'Next TV'.\n"
     ]
    },
    {
     "name": "stderr",
     "output_type": "stream",
     "text": [
      "Fetching Wikipedia pages:  99%|█████████▉| 13754/13891 [16:48<00:10, 13.33it/s]"
     ]
    },
    {
     "name": "stdout",
     "output_type": "stream",
     "text": [
      "Warning: No documents found for title 'Torsten Schmidt (cyclist)'.\n"
     ]
    },
    {
     "name": "stderr",
     "output_type": "stream",
     "text": [
      "Fetching Wikipedia pages: 100%|██████████| 13891/13891 [16:57<00:00, 13.65it/s]"
     ]
    },
    {
     "name": "stdout",
     "output_type": "stream",
     "text": [
      "Successfully fetched 13863 documents out of 13891.\n"
     ]
    },
    {
     "name": "stderr",
     "output_type": "stream",
     "text": [
      "\n"
     ]
    }
   ],
   "source": [
    "# Define the number of worker threads\n",
    "MAX_WORKERS = 20  # Adjust based on your requirements and Colab's capabilities\n",
    "\n",
    "with ThreadPoolExecutor(max_workers=MAX_WORKERS) as executor:\n",
    "    # Submit all tasks to the executor\n",
    "    future_to_title = {executor.submit(fetch_docs, row[\"Wikipedia_Title\"]): idx for idx, row in df.iterrows()}\n",
    "\n",
    "    # Use tqdm to display the progress bar\n",
    "    for future in tqdm(as_completed(future_to_title), total=len(future_to_title), desc=\"Fetching Wikipedia pages\"):\n",
    "        docs = future.result()\n",
    "        if docs:\n",
    "            all_docs.extend(docs)\n",
    "            successful_fetches += 1\n",
    "\n",
    "print(f\"Successfully fetched {successful_fetches} documents out of {len(df)}.\")"
   ]
  },
  {
   "cell_type": "code",
   "execution_count": 5,
   "metadata": {},
   "outputs": [
    {
     "name": "stdout",
     "output_type": "stream",
     "text": [
      "Successfully saved all_docs to ../data/all_docs.pkl\n"
     ]
    }
   ],
   "source": [
    "import pickle\n",
    "\n",
    "# After fetching all_docs\n",
    "with open(\"../data/all_docs.pkl\", \"wb\") as f:\n",
    "    pickle.dump(all_docs, f)\n",
    "    print(\"Successfully saved all_docs to ../data/all_docs.pkl\")"
   ]
  }
 ],
 "metadata": {
  "kernelspec": {
   "display_name": "NLP",
   "language": "python",
   "name": "python3"
  },
  "language_info": {
   "codemirror_mode": {
    "name": "ipython",
    "version": 3
   },
   "file_extension": ".py",
   "mimetype": "text/x-python",
   "name": "python",
   "nbconvert_exporter": "python",
   "pygments_lexer": "ipython3",
   "version": "3.9.18"
  }
 },
 "nbformat": 4,
 "nbformat_minor": 2
}
